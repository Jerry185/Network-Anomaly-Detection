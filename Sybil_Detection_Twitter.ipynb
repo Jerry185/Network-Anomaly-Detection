{
 "cells": [
  {
   "cell_type": "markdown",
   "metadata": {},
   "source": [
    "# Sybil Detection"
   ]
  },
  {
   "cell_type": "code",
   "execution_count": 1,
   "metadata": {},
   "outputs": [],
   "source": [
    "import os\n",
    "import pandas as pd\n",
    "import numpy as np\n",
    "\n",
    "from avd.graph_learning_controller import GraphLearningController\n",
    "from avd.learners.sklearner import SkLearner\n",
    "from avd.configs import config\n",
    "from avd.datasets.twitter import load_data"
   ]
  },
  {
   "cell_type": "markdown",
   "metadata": {},
   "source": [
    "Specify output directory for classifiers."
   ]
  },
  {
   "cell_type": "code",
   "execution_count": 2,
   "metadata": {},
   "outputs": [],
   "source": [
    "output_folder = os.getcwd() + \"/data/output\"\n",
    "if not os.path.exists(output_folder):\n",
    "    os.mkdir(output_folder)"
   ]
  },
  {
   "cell_type": "markdown",
   "metadata": {},
   "source": [
    "Define what is considered positive and negative labels."
   ]
  },
  {
   "cell_type": "code",
   "execution_count": 3,
   "metadata": {},
   "outputs": [],
   "source": [
    "labels = {\"neg\": \"Real\", \"pos\": \"Fake\"}"
   ]
  },
  {
   "cell_type": "markdown",
   "metadata": {},
   "source": [
    "We first load the Twitter graph.\n",
    "load_data will return a graph object(twitter_graph) and a config object(twitter_config)."
   ]
  },
  {
   "cell_type": "code",
   "execution_count": 4,
   "metadata": {},
   "outputs": [
    {
     "name": "stdout",
     "output_type": "stream",
     "text": [
      "Loading labels...\n",
      "Loading graph...\n",
      "Data loaded.\n",
      "2320975\n"
     ]
    }
   ],
   "source": [
    "twitter_graph, twitter_config = load_data(dataset_file_name=\"twitter_filtered.csv\", labels_file_name=\"twitter_labels_filtered.csv\", \n",
    "                                          labels_map=labels, limit=5000000) # Loads filtered dataset.\n",
    "print(len(twitter_graph.vertices))"
   ]
  },
  {
   "cell_type": "markdown",
   "metadata": {},
   "source": [
    "Some of the extracted feature can be useful for understanding the result, but they will not be used in the classification proccess."
   ]
  },
  {
   "cell_type": "code",
   "execution_count": 5,
   "metadata": {},
   "outputs": [],
   "source": [
    "if twitter_graph.is_directed:\n",
    "    meta_data_cols = [\"dst\", \"src\", \"out_degree_v\", \"in_degree_v\", \"out_degree_u\", \"in_degree_u\"]\n",
    "else:\n",
    "    meta_data_cols = [\"dst\", \"src\", \"number_of_friends_u\", \"number_of_friends_v\"]"
   ]
  },
  {
   "cell_type": "markdown",
   "metadata": {},
   "source": [
    "Finally, we train the classification algorithm.\n",
    "The Twitter dataset is incomplete and missing a lot of data.\n",
    "In order to deal with this problem, we train 10 times and aggregate the results."
   ]
  },
  {
   "cell_type": "code",
   "execution_count": 6,
   "metadata": {},
   "outputs": [
    {
     "name": "stdout",
     "output_type": "stream",
     "text": [
      "Setting training and test sets\n",
      "Existing files were loaded.\n",
      "Training 10-fold validation: {'auc': 0.8905526, 'recall': 0.9236000000000001, 'precision': 0.7834575850675484, 'accuracy': 0.8336, 'fpr': 0.2564000000000001, 'tnr': 0.7436}\n",
      "Validate_prediction_by_links: {'auc': 1.0, 'recall': 0.24444444444444444, 'precision': 0.055, 'accuracy': 0.8986363636363637, 'fpr': 0.08770301624129931}\n"
     ]
    }
   ],
   "source": [
    "#for i in range(10):\n",
    "twitter_config._name = \"twitter_\" + \"linksProbability_\"# + str(i) + \"_\"\n",
    "learner = SkLearner(labels=labels)\n",
    "glc = GraphLearningController(learner, twitter_config)\n",
    "result_path = os.path.join(output_folder, twitter_config.name  + \"res.csv\")\n",
    "glc.classify_by_links(twitter_graph, \n",
    "                      result_path, \n",
    "                      test_size={\"neg\": 2000, \"pos\": 200},\n",
    "                      train_size={\"neg\": 5000, \"pos\": 5000}, \n",
    "                      meta_data_cols=meta_data_cols)"
   ]
  },
  {
   "cell_type": "code",
   "execution_count": 7,
   "metadata": {},
   "outputs": [],
   "source": [
    "def aggreagate_res(data_folder, res_path):\n",
    "    results_frame = pd.DataFrame()\n",
    "    for f in os.listdir(data_folder):\n",
    "        temp_df = pd.read_csv(data_folder + \"/\" + f,index_col=0, encoding='utf-8', engine='python')\n",
    "        results_frame = results_frame.append(temp_df)\n",
    "    results_frame = results_frame.groupby(\"src_id\").mean()\n",
    "\n",
    "    return results_frame.reset_index()"
   ]
  },
  {
   "cell_type": "code",
   "execution_count": 8,
   "metadata": {},
   "outputs": [],
   "source": [
    "df = aggreagate_res(output_folder, \"res.csv\").sort_values(\"mean_link_label\", ascending=False)"
   ]
  },
  {
   "cell_type": "markdown",
   "metadata": {},
   "source": [
    "In order to calculate precision at k, we add two additional columns:\n",
    "1. The sum of the positive examples.\n",
    "2. k  the total number of resutls until the specific row. (row number)"
   ]
  },
  {
   "cell_type": "code",
   "execution_count": 9,
   "metadata": {},
   "outputs": [],
   "source": [
    "df[\"actual_sum\"] = df[\"actual\"].cumsum()\n",
    "df[\"k\"] = 1\n",
    "df[\"k\"] = df[\"k\"].cumsum()"
   ]
  },
  {
   "cell_type": "code",
   "execution_count": 10,
   "metadata": {},
   "outputs": [
    {
     "data": {
      "text/html": [
       "<div>\n",
       "<style scoped>\n",
       "    .dataframe tbody tr th:only-of-type {\n",
       "        vertical-align: middle;\n",
       "    }\n",
       "\n",
       "    .dataframe tbody tr th {\n",
       "        vertical-align: top;\n",
       "    }\n",
       "\n",
       "    .dataframe thead th {\n",
       "        text-align: right;\n",
       "    }\n",
       "</style>\n",
       "<table border=\"1\" class=\"dataframe\">\n",
       "  <thead>\n",
       "    <tr style=\"text-align: right;\">\n",
       "      <th></th>\n",
       "      <th>src_id</th>\n",
       "      <th>neg probability</th>\n",
       "      <th>edge number</th>\n",
       "      <th>pos probability</th>\n",
       "      <th>mean_link_label</th>\n",
       "      <th>sum_link_label</th>\n",
       "      <th>predicted_label</th>\n",
       "      <th>actual</th>\n",
       "      <th>actual_sum</th>\n",
       "      <th>k</th>\n",
       "    </tr>\n",
       "  </thead>\n",
       "  <tbody>\n",
       "    <tr>\n",
       "      <th>3802</th>\n",
       "      <td>2104351</td>\n",
       "      <td>0.042308</td>\n",
       "      <td>13.0</td>\n",
       "      <td>0.957692</td>\n",
       "      <td>1.000000</td>\n",
       "      <td>13.0</td>\n",
       "      <td>1.0</td>\n",
       "      <td>1.0</td>\n",
       "      <td>1.0</td>\n",
       "      <td>1</td>\n",
       "    </tr>\n",
       "    <tr>\n",
       "      <th>3456</th>\n",
       "      <td>946314</td>\n",
       "      <td>0.126184</td>\n",
       "      <td>13.0</td>\n",
       "      <td>0.873816</td>\n",
       "      <td>1.000000</td>\n",
       "      <td>13.0</td>\n",
       "      <td>1.0</td>\n",
       "      <td>0.0</td>\n",
       "      <td>1.0</td>\n",
       "      <td>2</td>\n",
       "    </tr>\n",
       "    <tr>\n",
       "      <th>3152</th>\n",
       "      <td>709798</td>\n",
       "      <td>0.305895</td>\n",
       "      <td>19.0</td>\n",
       "      <td>0.694105</td>\n",
       "      <td>1.000000</td>\n",
       "      <td>19.0</td>\n",
       "      <td>1.0</td>\n",
       "      <td>0.0</td>\n",
       "      <td>1.0</td>\n",
       "      <td>3</td>\n",
       "    </tr>\n",
       "    <tr>\n",
       "      <th>3830</th>\n",
       "      <td>2424868</td>\n",
       "      <td>0.224701</td>\n",
       "      <td>22.0</td>\n",
       "      <td>0.775299</td>\n",
       "      <td>0.954545</td>\n",
       "      <td>21.0</td>\n",
       "      <td>1.0</td>\n",
       "      <td>0.0</td>\n",
       "      <td>1.0</td>\n",
       "      <td>4</td>\n",
       "    </tr>\n",
       "    <tr>\n",
       "      <th>3462</th>\n",
       "      <td>955631</td>\n",
       "      <td>0.075796</td>\n",
       "      <td>18.0</td>\n",
       "      <td>0.924204</td>\n",
       "      <td>0.944444</td>\n",
       "      <td>17.0</td>\n",
       "      <td>1.0</td>\n",
       "      <td>0.0</td>\n",
       "      <td>1.0</td>\n",
       "      <td>5</td>\n",
       "    </tr>\n",
       "    <tr>\n",
       "      <th>1850</th>\n",
       "      <td>215522</td>\n",
       "      <td>0.276627</td>\n",
       "      <td>14.0</td>\n",
       "      <td>0.723373</td>\n",
       "      <td>0.928571</td>\n",
       "      <td>13.0</td>\n",
       "      <td>1.0</td>\n",
       "      <td>1.0</td>\n",
       "      <td>2.0</td>\n",
       "      <td>6</td>\n",
       "    </tr>\n",
       "    <tr>\n",
       "      <th>2398</th>\n",
       "      <td>352725</td>\n",
       "      <td>0.279480</td>\n",
       "      <td>13.0</td>\n",
       "      <td>0.720520</td>\n",
       "      <td>0.923077</td>\n",
       "      <td>12.0</td>\n",
       "      <td>1.0</td>\n",
       "      <td>1.0</td>\n",
       "      <td>3.0</td>\n",
       "      <td>7</td>\n",
       "    </tr>\n",
       "    <tr>\n",
       "      <th>1849</th>\n",
       "      <td>215410</td>\n",
       "      <td>0.278454</td>\n",
       "      <td>12.5</td>\n",
       "      <td>0.721546</td>\n",
       "      <td>0.919872</td>\n",
       "      <td>11.5</td>\n",
       "      <td>1.0</td>\n",
       "      <td>1.0</td>\n",
       "      <td>4.0</td>\n",
       "      <td>8</td>\n",
       "    </tr>\n",
       "    <tr>\n",
       "      <th>3686</th>\n",
       "      <td>1455795</td>\n",
       "      <td>0.218845</td>\n",
       "      <td>24.0</td>\n",
       "      <td>0.781155</td>\n",
       "      <td>0.895833</td>\n",
       "      <td>21.5</td>\n",
       "      <td>1.0</td>\n",
       "      <td>0.5</td>\n",
       "      <td>4.5</td>\n",
       "      <td>9</td>\n",
       "    </tr>\n",
       "    <tr>\n",
       "      <th>3398</th>\n",
       "      <td>880719</td>\n",
       "      <td>0.287188</td>\n",
       "      <td>16.0</td>\n",
       "      <td>0.712813</td>\n",
       "      <td>0.875000</td>\n",
       "      <td>14.0</td>\n",
       "      <td>1.0</td>\n",
       "      <td>1.0</td>\n",
       "      <td>5.5</td>\n",
       "      <td>10</td>\n",
       "    </tr>\n",
       "  </tbody>\n",
       "</table>\n",
       "</div>"
      ],
      "text/plain": [
       "       src_id  neg probability  edge number  pos probability  mean_link_label  \\\n",
       "3802  2104351         0.042308         13.0         0.957692         1.000000   \n",
       "3456   946314         0.126184         13.0         0.873816         1.000000   \n",
       "3152   709798         0.305895         19.0         0.694105         1.000000   \n",
       "3830  2424868         0.224701         22.0         0.775299         0.954545   \n",
       "3462   955631         0.075796         18.0         0.924204         0.944444   \n",
       "1850   215522         0.276627         14.0         0.723373         0.928571   \n",
       "2398   352725         0.279480         13.0         0.720520         0.923077   \n",
       "1849   215410         0.278454         12.5         0.721546         0.919872   \n",
       "3686  1455795         0.218845         24.0         0.781155         0.895833   \n",
       "3398   880719         0.287188         16.0         0.712813         0.875000   \n",
       "\n",
       "      sum_link_label  predicted_label  actual  actual_sum   k  \n",
       "3802            13.0              1.0     1.0         1.0   1  \n",
       "3456            13.0              1.0     0.0         1.0   2  \n",
       "3152            19.0              1.0     0.0         1.0   3  \n",
       "3830            21.0              1.0     0.0         1.0   4  \n",
       "3462            17.0              1.0     0.0         1.0   5  \n",
       "1850            13.0              1.0     1.0         2.0   6  \n",
       "2398            12.0              1.0     1.0         3.0   7  \n",
       "1849            11.5              1.0     1.0         4.0   8  \n",
       "3686            21.5              1.0     0.5         4.5   9  \n",
       "3398            14.0              1.0     1.0         5.5  10  "
      ]
     },
     "execution_count": 10,
     "metadata": {},
     "output_type": "execute_result"
    }
   ],
   "source": [
    "df.head(10)"
   ]
  },
  {
   "cell_type": "markdown",
   "metadata": {},
   "source": [
    "We add an additional column that stores the p@k values by calculating the precision at k."
   ]
  },
  {
   "cell_type": "code",
   "execution_count": 11,
   "metadata": {},
   "outputs": [],
   "source": [
    "df[\"p@k\"] = df.apply(lambda x: x[\"actual_sum\"]/x[\"k\"], axis=1)"
   ]
  },
  {
   "cell_type": "code",
   "execution_count": 12,
   "metadata": {},
   "outputs": [
    {
     "data": {
      "text/html": [
       "<div>\n",
       "<style scoped>\n",
       "    .dataframe tbody tr th:only-of-type {\n",
       "        vertical-align: middle;\n",
       "    }\n",
       "\n",
       "    .dataframe tbody tr th {\n",
       "        vertical-align: top;\n",
       "    }\n",
       "\n",
       "    .dataframe thead th {\n",
       "        text-align: right;\n",
       "    }\n",
       "</style>\n",
       "<table border=\"1\" class=\"dataframe\">\n",
       "  <thead>\n",
       "    <tr style=\"text-align: right;\">\n",
       "      <th></th>\n",
       "      <th>k</th>\n",
       "      <th>p@k</th>\n",
       "    </tr>\n",
       "  </thead>\n",
       "  <tbody>\n",
       "    <tr>\n",
       "      <th>3802</th>\n",
       "      <td>1</td>\n",
       "      <td>1.000000</td>\n",
       "    </tr>\n",
       "    <tr>\n",
       "      <th>3456</th>\n",
       "      <td>2</td>\n",
       "      <td>0.500000</td>\n",
       "    </tr>\n",
       "    <tr>\n",
       "      <th>3152</th>\n",
       "      <td>3</td>\n",
       "      <td>0.333333</td>\n",
       "    </tr>\n",
       "    <tr>\n",
       "      <th>3830</th>\n",
       "      <td>4</td>\n",
       "      <td>0.250000</td>\n",
       "    </tr>\n",
       "    <tr>\n",
       "      <th>3462</th>\n",
       "      <td>5</td>\n",
       "      <td>0.200000</td>\n",
       "    </tr>\n",
       "    <tr>\n",
       "      <th>1850</th>\n",
       "      <td>6</td>\n",
       "      <td>0.333333</td>\n",
       "    </tr>\n",
       "    <tr>\n",
       "      <th>2398</th>\n",
       "      <td>7</td>\n",
       "      <td>0.428571</td>\n",
       "    </tr>\n",
       "    <tr>\n",
       "      <th>1849</th>\n",
       "      <td>8</td>\n",
       "      <td>0.500000</td>\n",
       "    </tr>\n",
       "    <tr>\n",
       "      <th>3686</th>\n",
       "      <td>9</td>\n",
       "      <td>0.500000</td>\n",
       "    </tr>\n",
       "    <tr>\n",
       "      <th>3398</th>\n",
       "      <td>10</td>\n",
       "      <td>0.550000</td>\n",
       "    </tr>\n",
       "  </tbody>\n",
       "</table>\n",
       "</div>"
      ],
      "text/plain": [
       "       k       p@k\n",
       "3802   1  1.000000\n",
       "3456   2  0.500000\n",
       "3152   3  0.333333\n",
       "3830   4  0.250000\n",
       "3462   5  0.200000\n",
       "1850   6  0.333333\n",
       "2398   7  0.428571\n",
       "1849   8  0.500000\n",
       "3686   9  0.500000\n",
       "3398  10  0.550000"
      ]
     },
     "execution_count": 12,
     "metadata": {},
     "output_type": "execute_result"
    }
   ],
   "source": [
    "df[[\"k\", \"p@k\"]].head(10)"
   ]
  },
  {
   "cell_type": "markdown",
   "metadata": {},
   "source": [
    "We can see in the p@k plot that the resuts are musch better then random which about 6%."
   ]
  },
  {
   "cell_type": "code",
   "execution_count": 13,
   "metadata": {},
   "outputs": [
    {
     "data": {
      "text/plain": [
       "[<matplotlib.lines.Line2D at 0x1a37089ef0>]"
      ]
     },
     "execution_count": 13,
     "metadata": {},
     "output_type": "execute_result"
    },
    {
     "data": {
      "text/plain": [
       "<Figure size 432x288 with 0 Axes>"
      ]
     },
     "metadata": {},
     "output_type": "display_data"
    },
    {
     "data": {
      "image/png": "[encoded data removed]",
      "text/plain": [
       "<Figure size 432x288 with 1 Axes>"
      ]
     },
     "metadata": {
      "needs_background": "light"
     },
     "output_type": "display_data"
    }
   ],
   "source": [
    "%matplotlib inline\n",
    "import matplotlib.pyplot as plt\n",
    "\n",
    "plt.figure()\n",
    "df[[\"k\", \"p@k\"]][:500].plot(x=\"k\", y= \"p@k\")\n",
    "plt.plot(df[[\"k\"]].values, np.full((len(df[[\"k\"]]),1), 0.06))"
   ]
  },
  {
   "cell_type": "markdown",
   "metadata": {},
   "source": [
    "## Logistic Regression"
   ]
  },
  {
   "cell_type": "code",
   "execution_count": 14,
   "metadata": {},
   "outputs": [
    {
     "name": "stdout",
     "output_type": "stream",
     "text": [
      "Setting training and test sets\n",
      "Existing files were loaded.\n",
      "Training 10-fold validation: {'auc': 0.8985951999999999, 'recall': 0.9288000000000001, 'precision': 0.7938346484693222, 'accuracy': 0.8436999999999999, 'fpr': 0.24139999999999998, 'tnr': 0.7585999999999999}\n"
     ]
    }
   ],
   "source": [
    "twitter_config._name = \"twitter_\" + \"LogisticRegression_\" # + str(i) + \"_\"\n",
    "IsoForest_learner = SkLearner(labels=labels).set_logistic_regression_classifier()\n",
    "glc = GraphLearningController(IsoForest_learner, twitter_config)\n",
    "result_path = os.path.join(output_folder, twitter_config.name  + \"res.csv\")\n",
    "glc.evaluate_classifier(twitter_graph, \n",
    "                        test_size={\"neg\": 2000, \"pos\": 200},\n",
    "                        training_size={\"neg\": 5000, \"pos\": 5000}, \n",
    "                        meta_data_cols=meta_data_cols)"
   ]
  },
  {
   "cell_type": "markdown",
   "metadata": {},
   "source": [
    "## Random Forest"
   ]
  },
  {
   "cell_type": "code",
   "execution_count": 20,
   "metadata": {},
   "outputs": [
    {
     "name": "stdout",
     "output_type": "stream",
     "text": [
      "Setting training and test sets\n",
      "Existing files were loaded.\n",
      "Training 10-fold validation: {'auc': 0.8812744, 'recall': 0.9336, 'precision': 0.7863304664756144, 'accuracy': 0.8399000000000001, 'fpr': 0.2538, 'tnr': 0.7462}\n"
     ]
    }
   ],
   "source": [
    "twitter_config._name = \"twitter_\" + \"RandomForest_\" # + str(i) + \"_\"\n",
    "IsoForest_learner = SkLearner(labels=labels).set_randomforest_classifier()\n",
    "glc = GraphLearningController(IsoForest_learner, twitter_config)\n",
    "result_path = os.path.join(output_folder, twitter_config.name  + \"res.csv\")\n",
    "glc.evaluate_classifier(twitter_graph, \n",
    "                        test_size={\"neg\": 2000, \"pos\": 200},\n",
    "                        training_size={\"neg\": 5000, \"pos\": 5000}, \n",
    "                        meta_data_cols=meta_data_cols)"
   ]
  },
  {
   "cell_type": "markdown",
   "metadata": {},
   "source": [
    "## Isolation Forest"
   ]
  },
  {
   "cell_type": "code",
   "execution_count": 21,
   "metadata": {
    "scrolled": true
   },
   "outputs": [
    {
     "name": "stdout",
     "output_type": "stream",
     "text": [
      "Setting training and test sets\n",
      "Existing files were loaded.\n",
      "Training 10-fold validation: {'auc': 0.8771406, 'recall': 0.9316000000000001, 'precision': 0.7862578974315231, 'accuracy': 0.8391, 'fpr': 0.25339999999999996, 'tnr': 0.7465999999999999}\n"
     ]
    }
   ],
   "source": [
    "twitter_config._name = \"twitter_\" + \"IsolationForest_\" # + str(i) + \"_\"\n",
    "IsoForest_learner = SkLearner(labels=labels).set_isolation_forest_classifier()\n",
    "glc = GraphLearningController(IsoForest_learner, twitter_config)\n",
    "result_path = os.path.join(output_folder, twitter_config.name  + \"res.csv\")\n",
    "glc.evaluate_classifier(twitter_graph, \n",
    "                        test_size={\"neg\": 2000, \"pos\": 200},\n",
    "                        training_size={\"neg\": 5000, \"pos\": 5000}, \n",
    "                        meta_data_cols=meta_data_cols)"
   ]
  },
  {
   "cell_type": "code",
   "execution_count": null,
   "metadata": {},
   "outputs": [],
   "source": []
  }
 ],
 "metadata": {
  "kernelspec": {
   "display_name": "Python 3",
   "language": "python",
   "name": "python3"
  },
  "language_info": {
   "codemirror_mode": {
    "name": "ipython",
    "version": 3
   },
   "file_extension": ".py",
   "mimetype": "text/x-python",
   "name": "python",
   "nbconvert_exporter": "python",
   "pygments_lexer": "ipython3",
   "version": "3.7.3"
  }
 },
 "nbformat": 4,
 "nbformat_minor": 2
}
