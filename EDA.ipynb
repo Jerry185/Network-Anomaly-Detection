{
 "cells": [
  {
   "cell_type": "code",
   "execution_count": 1,
   "metadata": {},
   "outputs": [],
   "source": [
    "import pandas as pd\n",
    "import numpy as np\n",
    "import matplotlib.pyplot as plt\n",
    "import sklearn\n",
    "import networkx as nx"
   ]
  },
  {
   "cell_type": "code",
   "execution_count": 2,
   "metadata": {},
   "outputs": [],
   "source": [
    "network = pd.read_csv(\"./data/twitter.csv\")\n",
    "fakeIds = pd.read_csv(\"./data/twitter_fake_ids.csv\")"
   ]
  },
  {
   "cell_type": "code",
   "execution_count": 3,
   "metadata": {},
   "outputs": [],
   "source": [
    "df = pd.DataFrame(columns=[\"id\", \"following\", \"followers\", \"label\"])"
   ]
  },
  {
   "cell_type": "code",
   "execution_count": 4,
   "metadata": {
    "scrolled": true
   },
   "outputs": [],
   "source": [
    "ids = set(np.append(network[\"src\"].unique(), network[\"dst\"].unique()))\n",
    "df[\"id\"] = sorted(ids)"
   ]
  },
  {
   "cell_type": "code",
   "execution_count": 5,
   "metadata": {},
   "outputs": [],
   "source": [
    "# Sets number of peers following for all users\n",
    "following_vals = dict(network[\"src\"].value_counts())\n",
    "def setFollowing(x):\n",
    "    try:\n",
    "        return following_vals[x]\n",
    "    except:\n",
    "        return 0\n",
    "df[\"following\"] = df[\"id\"].apply(setFollowing)"
   ]
  },
  {
   "cell_type": "code",
   "execution_count": 6,
   "metadata": {},
   "outputs": [],
   "source": [
    "# Sets number of followers for all users - note: takes a while\n",
    "follower_vals = dict(network[\"dst\"].value_counts()) \n",
    "def setFollowers(x):\n",
    "    try:\n",
    "        return follower_vals[x]\n",
    "    except:\n",
    "        return 0\n",
    "df[\"followers\"] = df[\"id\"].apply(setFollowers)"
   ]
  },
  {
   "cell_type": "code",
   "execution_count": 7,
   "metadata": {},
   "outputs": [],
   "source": [
    "# Sets labels for fake users (1 if fake, 0 otherwise) - note: takes a while\n",
    "def setLabels(x):\n",
    "    try:\n",
    "        if x in fakeIds[\"id\"].values:\n",
    "            return 1\n",
    "        else:\n",
    "            return 0\n",
    "    except:\n",
    "        return 0    \n",
    "df[\"label\"] = df[\"id\"].apply(setLabels)"
   ]
  },
  {
   "cell_type": "code",
   "execution_count": 8,
   "metadata": {},
   "outputs": [
    {
     "data": {
      "text/plain": [
       "1       3799968\n",
       "2        683692\n",
       "3        273138\n",
       "4        146786\n",
       "5         91526\n",
       "         ...   \n",
       "950           1\n",
       "949           1\n",
       "944           1\n",
       "937           1\n",
       "4061          1\n",
       "Name: followers, Length: 1091, dtype: int64"
      ]
     },
     "execution_count": 8,
     "metadata": {},
     "output_type": "execute_result"
    }
   ],
   "source": [
    "df[\"followers\"].value_counts()"
   ]
  },
  {
   "cell_type": "code",
   "execution_count": 9,
   "metadata": {},
   "outputs": [
    {
     "data": {
      "text/plain": [
       "0       5303682\n",
       "100       43176\n",
       "1000       3456\n",
       "101        2887\n",
       "1          2877\n",
       "         ...   \n",
       "845           1\n",
       "1011          1\n",
       "988           1\n",
       "818           1\n",
       "1012          1\n",
       "Name: following, Length: 1012, dtype: int64"
      ]
     },
     "execution_count": 9,
     "metadata": {},
     "output_type": "execute_result"
    }
   ],
   "source": [
    "df[\"following\"].value_counts()"
   ]
  },
  {
   "cell_type": "code",
   "execution_count": 10,
   "metadata": {
    "scrolled": true
   },
   "outputs": [],
   "source": [
    "# FILTERING PROCESS, current decision: \n",
    "df = df.loc[(df[\"followers\"] > 0) & (df[\"following\"] > 0)]"
   ]
  },
  {
   "cell_type": "code",
   "execution_count": 11,
   "metadata": {},
   "outputs": [
    {
     "data": {
      "text/plain": [
       "75814"
      ]
     },
     "execution_count": 11,
     "metadata": {},
     "output_type": "execute_result"
    }
   ],
   "source": [
    "len(df)"
   ]
  },
  {
   "cell_type": "code",
   "execution_count": 12,
   "metadata": {},
   "outputs": [
    {
     "name": "stdout",
     "output_type": "stream",
     "text": [
      "Anomalies in Pruned Network dataset: 6807\n",
      "Anomalies in FakeIds dataset: 12437\n"
     ]
    }
   ],
   "source": [
    "print(\"Anomalies in Pruned Network dataset:\",len(df.loc[df[\"label\"] == 1].values))\n",
    "print(\"Anomalies in FakeIds dataset:\",len(fakeIds[\"id\"].values))"
   ]
  },
  {
   "cell_type": "code",
   "execution_count": 13,
   "metadata": {},
   "outputs": [
    {
     "data": {
      "text/html": [
       "<div>\n",
       "<style scoped>\n",
       "    .dataframe tbody tr th:only-of-type {\n",
       "        vertical-align: middle;\n",
       "    }\n",
       "\n",
       "    .dataframe tbody tr th {\n",
       "        vertical-align: top;\n",
       "    }\n",
       "\n",
       "    .dataframe thead th {\n",
       "        text-align: right;\n",
       "    }\n",
       "</style>\n",
       "<table border=\"1\" class=\"dataframe\">\n",
       "  <thead>\n",
       "    <tr style=\"text-align: right;\">\n",
       "      <th></th>\n",
       "      <th>followers</th>\n",
       "      <th>label</th>\n",
       "    </tr>\n",
       "  </thead>\n",
       "  <tbody>\n",
       "    <tr>\n",
       "      <th>count</th>\n",
       "      <td>75814.000000</td>\n",
       "      <td>75814.000000</td>\n",
       "    </tr>\n",
       "    <tr>\n",
       "      <th>mean</th>\n",
       "      <td>21.904305</td>\n",
       "      <td>0.089786</td>\n",
       "    </tr>\n",
       "    <tr>\n",
       "      <th>std</th>\n",
       "      <td>62.207096</td>\n",
       "      <td>0.285876</td>\n",
       "    </tr>\n",
       "    <tr>\n",
       "      <th>min</th>\n",
       "      <td>1.000000</td>\n",
       "      <td>0.000000</td>\n",
       "    </tr>\n",
       "    <tr>\n",
       "      <th>25%</th>\n",
       "      <td>2.000000</td>\n",
       "      <td>0.000000</td>\n",
       "    </tr>\n",
       "    <tr>\n",
       "      <th>50%</th>\n",
       "      <td>6.000000</td>\n",
       "      <td>0.000000</td>\n",
       "    </tr>\n",
       "    <tr>\n",
       "      <th>75%</th>\n",
       "      <td>19.000000</td>\n",
       "      <td>0.000000</td>\n",
       "    </tr>\n",
       "    <tr>\n",
       "      <th>max</th>\n",
       "      <td>2935.000000</td>\n",
       "      <td>1.000000</td>\n",
       "    </tr>\n",
       "  </tbody>\n",
       "</table>\n",
       "</div>"
      ],
      "text/plain": [
       "          followers         label\n",
       "count  75814.000000  75814.000000\n",
       "mean      21.904305      0.089786\n",
       "std       62.207096      0.285876\n",
       "min        1.000000      0.000000\n",
       "25%        2.000000      0.000000\n",
       "50%        6.000000      0.000000\n",
       "75%       19.000000      0.000000\n",
       "max     2935.000000      1.000000"
      ]
     },
     "execution_count": 13,
     "metadata": {},
     "output_type": "execute_result"
    }
   ],
   "source": [
    "df.iloc[:,2:].describe()"
   ]
  },
  {
   "cell_type": "code",
   "execution_count": 14,
   "metadata": {},
   "outputs": [
    {
     "data": {
      "image/png": "[encoded data removed]",
      "text/plain": [
       "<Figure size 432x288 with 4 Axes>"
      ]
     },
     "metadata": {
      "needs_background": "light"
     },
     "output_type": "display_data"
    }
   ],
   "source": [
    "pd.plotting.scatter_matrix(df[df.columns[2:]], diagonal='kde')\n",
    "plt.show()"
   ]
  },
  {
   "cell_type": "code",
   "execution_count": 15,
   "metadata": {},
   "outputs": [
    {
     "data": {
      "text/plain": [
       "Text(0, 0.5, 'Followers')"
      ]
     },
     "execution_count": 15,
     "metadata": {},
     "output_type": "execute_result"
    },
    {
     "data": {
      "image/png": "[encoded data removed]",
      "text/plain": [
       "<Figure size 432x288 with 1 Axes>"
      ]
     },
     "metadata": {
      "needs_background": "light"
     },
     "output_type": "display_data"
    }
   ],
   "source": [
    "# Looks like it follows intuitive reasoning; most users have fewer followers than they follow.\n",
    "plt.scatter(df[\"following\"], df[\"followers\"], s=0.5)\n",
    "plt.title(\"Number Following vs. Number Followers\")\n",
    "plt.xlabel(\"Following\")\n",
    "plt.ylabel(\"Followers\")"
   ]
  },
  {
   "cell_type": "code",
   "execution_count": 16,
   "metadata": {},
   "outputs": [
    {
     "data": {
      "text/plain": [
       "0    69007\n",
       "1     6807\n",
       "Name: label, dtype: int64"
      ]
     },
     "execution_count": 16,
     "metadata": {},
     "output_type": "execute_result"
    }
   ],
   "source": [
    "# Pruning the dataset makes us lose many anomalies -- following 0 users might be an indicator of a fake user?\n",
    "# Also reduces dataset size from ~5.4 million to just 75,814 users, which seems weird --> analyze this more?\n",
    "# Should we even prune users - up for discussion!\n",
    "df[\"label\"].value_counts()"
   ]
  },
  {
   "cell_type": "code",
   "execution_count": 17,
   "metadata": {},
   "outputs": [],
   "source": [
    "df.to_csv(\"./data/filtered_users_labeled.csv\")"
   ]
  },
  {
   "cell_type": "code",
   "execution_count": 18,
   "metadata": {},
   "outputs": [],
   "source": [
    "# Draw the directed graph programatically - Note: takes a REALLY long time\n",
    "# G = nx.Graph()\n",
    "\n",
    "# print(\"Creating list of edges...\")\n",
    "# edgesList = list(zip(network[\"src\"], network[\"dst\"]))\n",
    "# print(\"Done.\")\n",
    "\n",
    "# print(\"Drawing edges...\")\n",
    "# G.add_edges_from(edgesList) # draw all edges\n",
    "# print(\"Done.\")\n",
    "\n",
    "# print(\"Coloring nodes representing fake users...\")\n",
    "# color_map = [ \"red\" for node in G if node in fakeIds[\"id\"].values ] # color fake users\n",
    "# print(\"Done.\")\n",
    "\n",
    "# print(\"Drawing full graph...\")\n",
    "# nx.draw(G, node_color = color_map,with_labels = True)\n",
    "# print(\"Done.\")\n",
    "\n",
    "# plt.savefig(\"network.png\") # save as png\n",
    "# plt.show() "
   ]
  },
  {
   "cell_type": "code",
   "execution_count": 19,
   "metadata": {},
   "outputs": [],
   "source": [
    "df.reset_index(inplace=True)"
   ]
  },
  {
   "cell_type": "code",
   "execution_count": 20,
   "metadata": {
    "scrolled": true
   },
   "outputs": [],
   "source": [
    "filtered_ids = df['id'].tolist()\n",
    "filtered_network = network.loc[(network['src'].isin(filtered_ids)) & (network['dst'].isin(filtered_ids))]\n",
    "filtered_network.to_csv(\"./data/twitter_filtered.csv\", index=False)\n",
    "filtered_fakeIds = fakeIds.loc[fakeIds['id'].isin(filtered_ids)]\n",
    "filtered_fakeIds.to_csv(\"./data/twitter_labels_filtered.csv\", index=False)"
   ]
  },
  {
   "cell_type": "code",
   "execution_count": 21,
   "metadata": {},
   "outputs": [
    {
     "data": {
      "text/html": [
       "<div>\n",
       "<style scoped>\n",
       "    .dataframe tbody tr th:only-of-type {\n",
       "        vertical-align: middle;\n",
       "    }\n",
       "\n",
       "    .dataframe tbody tr th {\n",
       "        vertical-align: top;\n",
       "    }\n",
       "\n",
       "    .dataframe thead th {\n",
       "        text-align: right;\n",
       "    }\n",
       "</style>\n",
       "<table border=\"1\" class=\"dataframe\">\n",
       "  <thead>\n",
       "    <tr style=\"text-align: right;\">\n",
       "      <th></th>\n",
       "      <th>src</th>\n",
       "      <th>dst</th>\n",
       "    </tr>\n",
       "  </thead>\n",
       "  <tbody>\n",
       "    <tr>\n",
       "      <th>2</th>\n",
       "      <td>5</td>\n",
       "      <td>6</td>\n",
       "    </tr>\n",
       "    <tr>\n",
       "      <th>3</th>\n",
       "      <td>5</td>\n",
       "      <td>7</td>\n",
       "    </tr>\n",
       "    <tr>\n",
       "      <th>6</th>\n",
       "      <td>5</td>\n",
       "      <td>10</td>\n",
       "    </tr>\n",
       "    <tr>\n",
       "      <th>9</th>\n",
       "      <td>5</td>\n",
       "      <td>13</td>\n",
       "    </tr>\n",
       "    <tr>\n",
       "      <th>10</th>\n",
       "      <td>5</td>\n",
       "      <td>14</td>\n",
       "    </tr>\n",
       "    <tr>\n",
       "      <th>...</th>\n",
       "      <td>...</td>\n",
       "      <td>...</td>\n",
       "    </tr>\n",
       "    <tr>\n",
       "      <th>16011377</th>\n",
       "      <td>3197850</td>\n",
       "      <td>171205</td>\n",
       "    </tr>\n",
       "    <tr>\n",
       "      <th>16011382</th>\n",
       "      <td>3197850</td>\n",
       "      <td>251418</td>\n",
       "    </tr>\n",
       "    <tr>\n",
       "      <th>16011398</th>\n",
       "      <td>3197850</td>\n",
       "      <td>1159743</td>\n",
       "    </tr>\n",
       "    <tr>\n",
       "      <th>16011406</th>\n",
       "      <td>3197850</td>\n",
       "      <td>1111685</td>\n",
       "    </tr>\n",
       "    <tr>\n",
       "      <th>16011409</th>\n",
       "      <td>3197850</td>\n",
       "      <td>1443555</td>\n",
       "    </tr>\n",
       "  </tbody>\n",
       "</table>\n",
       "<p>1637144 rows × 2 columns</p>\n",
       "</div>"
      ],
      "text/plain": [
       "              src      dst\n",
       "2               5        6\n",
       "3               5        7\n",
       "6               5       10\n",
       "9               5       13\n",
       "10              5       14\n",
       "...           ...      ...\n",
       "16011377  3197850   171205\n",
       "16011382  3197850   251418\n",
       "16011398  3197850  1159743\n",
       "16011406  3197850  1111685\n",
       "16011409  3197850  1443555\n",
       "\n",
       "[1637144 rows x 2 columns]"
      ]
     },
     "execution_count": 21,
     "metadata": {},
     "output_type": "execute_result"
    }
   ],
   "source": [
    "filtered_network"
   ]
  },
  {
   "cell_type": "code",
   "execution_count": 22,
   "metadata": {},
   "outputs": [
    {
     "data": {
      "text/html": [
       "<div>\n",
       "<style scoped>\n",
       "    .dataframe tbody tr th:only-of-type {\n",
       "        vertical-align: middle;\n",
       "    }\n",
       "\n",
       "    .dataframe tbody tr th {\n",
       "        vertical-align: top;\n",
       "    }\n",
       "\n",
       "    .dataframe thead th {\n",
       "        text-align: right;\n",
       "    }\n",
       "</style>\n",
       "<table border=\"1\" class=\"dataframe\">\n",
       "  <thead>\n",
       "    <tr style=\"text-align: right;\">\n",
       "      <th></th>\n",
       "      <th>id</th>\n",
       "      <th>label</th>\n",
       "    </tr>\n",
       "  </thead>\n",
       "  <tbody>\n",
       "    <tr>\n",
       "      <th>0</th>\n",
       "      <td>298970</td>\n",
       "      <td>Fake</td>\n",
       "    </tr>\n",
       "    <tr>\n",
       "      <th>3</th>\n",
       "      <td>2064057</td>\n",
       "      <td>Fake</td>\n",
       "    </tr>\n",
       "    <tr>\n",
       "      <th>4</th>\n",
       "      <td>696273</td>\n",
       "      <td>Fake</td>\n",
       "    </tr>\n",
       "    <tr>\n",
       "      <th>8</th>\n",
       "      <td>731464</td>\n",
       "      <td>Fake</td>\n",
       "    </tr>\n",
       "    <tr>\n",
       "      <th>14</th>\n",
       "      <td>2364791</td>\n",
       "      <td>Fake</td>\n",
       "    </tr>\n",
       "    <tr>\n",
       "      <th>...</th>\n",
       "      <td>...</td>\n",
       "      <td>...</td>\n",
       "    </tr>\n",
       "    <tr>\n",
       "      <th>12430</th>\n",
       "      <td>19856</td>\n",
       "      <td>Fake</td>\n",
       "    </tr>\n",
       "    <tr>\n",
       "      <th>12431</th>\n",
       "      <td>3061148</td>\n",
       "      <td>Fake</td>\n",
       "    </tr>\n",
       "    <tr>\n",
       "      <th>12432</th>\n",
       "      <td>435417</td>\n",
       "      <td>Fake</td>\n",
       "    </tr>\n",
       "    <tr>\n",
       "      <th>12435</th>\n",
       "      <td>114442</td>\n",
       "      <td>Fake</td>\n",
       "    </tr>\n",
       "    <tr>\n",
       "      <th>12436</th>\n",
       "      <td>4421826</td>\n",
       "      <td>Fake</td>\n",
       "    </tr>\n",
       "  </tbody>\n",
       "</table>\n",
       "<p>6807 rows × 2 columns</p>\n",
       "</div>"
      ],
      "text/plain": [
       "            id  label\n",
       "0       298970   Fake\n",
       "3      2064057   Fake\n",
       "4       696273   Fake\n",
       "8       731464   Fake\n",
       "14     2364791   Fake\n",
       "...        ...    ...\n",
       "12430    19856   Fake\n",
       "12431  3061148   Fake\n",
       "12432   435417   Fake\n",
       "12435   114442   Fake\n",
       "12436  4421826   Fake\n",
       "\n",
       "[6807 rows x 2 columns]"
      ]
     },
     "execution_count": 22,
     "metadata": {},
     "output_type": "execute_result"
    }
   ],
   "source": [
    "filtered_fakeIds"
   ]
  },
  {
   "cell_type": "code",
   "execution_count": null,
   "metadata": {},
   "outputs": [],
   "source": []
  }
 ],
 "metadata": {
  "kernelspec": {
   "display_name": "Python 3",
   "language": "python",
   "name": "python3"
  },
  "language_info": {
   "codemirror_mode": {
    "name": "ipython",
    "version": 3
   },
   "file_extension": ".py",
   "mimetype": "text/x-python",
   "name": "python",
   "nbconvert_exporter": "python",
   "pygments_lexer": "ipython3",
   "version": "3.8.0"
  }
 },
 "nbformat": 4,
 "nbformat_minor": 2
}
