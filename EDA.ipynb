{
 "cells": [
  {
   "cell_type": "code",
   "execution_count": 1,
   "metadata": {},
   "outputs": [],
   "source": [
    "import pandas as pd\n",
    "import numpy as np\n",
    "import matplotlib.pyplot as plt\n",
    "import sklearn\n",
    "import networkx as nx"
   ]
  },
  {
   "cell_type": "code",
   "execution_count": 2,
   "metadata": {},
   "outputs": [],
   "source": [
    "network = pd.read_csv(\"./data/twitter.csv\")\n",
    "fakeIds = pd.read_csv(\"./data/twitter_fake_ids.csv\")"
   ]
  },
  {
   "cell_type": "code",
   "execution_count": 3,
   "metadata": {},
   "outputs": [],
   "source": [
    "df = pd.DataFrame(columns=[\"id\", \"following\", \"followers\", \"label\"])"
   ]
  },
  {
   "cell_type": "code",
   "execution_count": 4,
   "metadata": {
    "scrolled": true
   },
   "outputs": [],
   "source": [
    "ids = set(np.append(network[\"src\"].unique(), network[\"dst\"].unique()))\n",
    "df[\"id\"] = sorted(ids)"
   ]
  },
  {
   "cell_type": "code",
   "execution_count": 5,
   "metadata": {},
   "outputs": [],
   "source": [
    "# Sets number of peers following for all users\n",
    "following_vals = dict(network[\"src\"].value_counts())\n",
    "def setFollowing(x):\n",
    "    try:\n",
    "        return following_vals[x]\n",
    "    except:\n",
    "        return 0\n",
    "df[\"following\"] = df[\"id\"].apply(setFollowing)"
   ]
  },
  {
   "cell_type": "code",
   "execution_count": 6,
   "metadata": {},
   "outputs": [],
   "source": [
    "# Sets number of followers for all users - note: takes a while\n",
    "follower_vals = dict(network[\"dst\"].value_counts()) \n",
    "def setFollowers(x):\n",
    "    try:\n",
    "        return follower_vals[x]\n",
    "    except:\n",
    "        return 0\n",
    "df[\"followers\"] = df[\"id\"].apply(setFollowers)"
   ]
  },
  {
   "cell_type": "code",
   "execution_count": 7,
   "metadata": {},
   "outputs": [],
   "source": [
    "# Sets labels for fake users (1 if fake, 0 otherwise) - note: takes a while\n",
    "def setLabels(x):\n",
    "    try:\n",
    "        if x in fakeIds[\"id\"].values:\n",
    "            return 1\n",
    "        else:\n",
    "            return 0\n",
    "    except:\n",
    "        return 0    \n",
    "df[\"label\"] = df[\"id\"].apply(setLabels)"
   ]
  },
  {
   "cell_type": "code",
   "execution_count": 8,
   "metadata": {},
   "outputs": [],
   "source": [
    "df.to_csv(\"temp.csv\") # for testing"
   ]
  },
  {
   "cell_type": "code",
   "execution_count": 9,
   "metadata": {},
   "outputs": [],
   "source": [
    "df = pd.read_csv(\"temp.csv\") # reset df "
   ]
  },
  {
   "cell_type": "code",
   "execution_count": 10,
   "metadata": {},
   "outputs": [
    {
     "data": {
      "text/plain": [
       "1       3799968\n",
       "2        683692\n",
       "3        273138\n",
       "4        146786\n",
       "5         91526\n",
       "         ...   \n",
       "950           1\n",
       "949           1\n",
       "944           1\n",
       "937           1\n",
       "4061          1\n",
       "Name: followers, Length: 1091, dtype: int64"
      ]
     },
     "execution_count": 10,
     "metadata": {},
     "output_type": "execute_result"
    }
   ],
   "source": [
    "df[\"followers\"].value_counts()"
   ]
  },
  {
   "cell_type": "code",
   "execution_count": 11,
   "metadata": {},
   "outputs": [
    {
     "data": {
      "text/plain": [
       "0       5303682\n",
       "100       43176\n",
       "1000       3456\n",
       "101        2887\n",
       "1          2877\n",
       "         ...   \n",
       "845           1\n",
       "1011          1\n",
       "988           1\n",
       "818           1\n",
       "1012          1\n",
       "Name: following, Length: 1012, dtype: int64"
      ]
     },
     "execution_count": 11,
     "metadata": {},
     "output_type": "execute_result"
    }
   ],
   "source": [
    "df[\"following\"].value_counts()"
   ]
  },
  {
   "cell_type": "code",
   "execution_count": 12,
   "metadata": {
    "scrolled": true
   },
   "outputs": [],
   "source": [
    "# FILTERING PROCESS, current decision: no need?\n",
    "# df = df.loc[df[\"followers\"] != 0]"
   ]
  },
  {
   "cell_type": "code",
   "execution_count": 13,
   "metadata": {},
   "outputs": [
    {
     "name": "stdout",
     "output_type": "stream",
     "text": [
      "Anomalies in Pruned Network dataset: 12437\n",
      "Anomalies in FakeIds dataset: 12437\n"
     ]
    }
   ],
   "source": [
    "print(\"Anomalies in Pruned Network dataset:\",len(df.loc[df[\"label\"] == 1].values))\n",
    "print(\"Anomalies in FakeIds dataset:\",len(fakeIds[\"id\"].values))"
   ]
  },
  {
   "cell_type": "code",
   "execution_count": 14,
   "metadata": {},
   "outputs": [
    {
     "data": {
      "text/html": [
       "<div>\n",
       "<style scoped>\n",
       "    .dataframe tbody tr th:only-of-type {\n",
       "        vertical-align: middle;\n",
       "    }\n",
       "\n",
       "    .dataframe tbody tr th {\n",
       "        vertical-align: top;\n",
       "    }\n",
       "\n",
       "    .dataframe thead th {\n",
       "        text-align: right;\n",
       "    }\n",
       "</style>\n",
       "<table border=\"1\" class=\"dataframe\">\n",
       "  <thead>\n",
       "    <tr style=\"text-align: right;\">\n",
       "      <th></th>\n",
       "      <th>following</th>\n",
       "      <th>followers</th>\n",
       "      <th>label</th>\n",
       "    </tr>\n",
       "  </thead>\n",
       "  <tbody>\n",
       "    <tr>\n",
       "      <td>count</td>\n",
       "      <td>5.384162e+06</td>\n",
       "      <td>5.384162e+06</td>\n",
       "      <td>5.384162e+06</td>\n",
       "    </tr>\n",
       "    <tr>\n",
       "      <td>mean</td>\n",
       "      <td>2.973804e+00</td>\n",
       "      <td>2.973804e+00</td>\n",
       "      <td>2.309923e-03</td>\n",
       "    </tr>\n",
       "    <tr>\n",
       "      <td>std</td>\n",
       "      <td>4.091452e+01</td>\n",
       "      <td>1.888250e+01</td>\n",
       "      <td>4.800612e-02</td>\n",
       "    </tr>\n",
       "    <tr>\n",
       "      <td>min</td>\n",
       "      <td>0.000000e+00</td>\n",
       "      <td>0.000000e+00</td>\n",
       "      <td>0.000000e+00</td>\n",
       "    </tr>\n",
       "    <tr>\n",
       "      <td>25%</td>\n",
       "      <td>0.000000e+00</td>\n",
       "      <td>1.000000e+00</td>\n",
       "      <td>0.000000e+00</td>\n",
       "    </tr>\n",
       "    <tr>\n",
       "      <td>50%</td>\n",
       "      <td>0.000000e+00</td>\n",
       "      <td>1.000000e+00</td>\n",
       "      <td>0.000000e+00</td>\n",
       "    </tr>\n",
       "    <tr>\n",
       "      <td>75%</td>\n",
       "      <td>0.000000e+00</td>\n",
       "      <td>2.000000e+00</td>\n",
       "      <td>0.000000e+00</td>\n",
       "    </tr>\n",
       "    <tr>\n",
       "      <td>max</td>\n",
       "      <td>1.012000e+03</td>\n",
       "      <td>5.016000e+03</td>\n",
       "      <td>1.000000e+00</td>\n",
       "    </tr>\n",
       "  </tbody>\n",
       "</table>\n",
       "</div>"
      ],
      "text/plain": [
       "          following     followers         label\n",
       "count  5.384162e+06  5.384162e+06  5.384162e+06\n",
       "mean   2.973804e+00  2.973804e+00  2.309923e-03\n",
       "std    4.091452e+01  1.888250e+01  4.800612e-02\n",
       "min    0.000000e+00  0.000000e+00  0.000000e+00\n",
       "25%    0.000000e+00  1.000000e+00  0.000000e+00\n",
       "50%    0.000000e+00  1.000000e+00  0.000000e+00\n",
       "75%    0.000000e+00  2.000000e+00  0.000000e+00\n",
       "max    1.012000e+03  5.016000e+03  1.000000e+00"
      ]
     },
     "execution_count": 14,
     "metadata": {},
     "output_type": "execute_result"
    }
   ],
   "source": [
    "df.iloc[:,2:].describe()"
   ]
  },
  {
   "cell_type": "code",
   "execution_count": 15,
   "metadata": {},
   "outputs": [
    {
     "data": {
      "text/plain": [
       "Text(0, 0.5, 'Followers')"
      ]
     },
     "execution_count": 15,
     "metadata": {},
     "output_type": "execute_result"
    },
    {
     "data": {
      "image/png": "[encoded data removed]",
      "text/plain": [
       "<Figure size 432x288 with 1 Axes>"
      ]
     },
     "metadata": {
      "needs_background": "light"
     },
     "output_type": "display_data"
    }
   ],
   "source": [
    "# Looks like it follows intuitive reasoning; most users have fewer followers than they follow.\n",
    "plt.scatter(df[\"following\"], df[\"followers\"], s=0.5)\n",
    "plt.title(\"Number Following vs. Number Followers\")\n",
    "plt.xlabel(\"Following\")\n",
    "plt.ylabel(\"Followers\")"
   ]
  },
  {
   "cell_type": "code",
   "execution_count": 16,
   "metadata": {},
   "outputs": [
    {
     "data": {
      "text/plain": [
       "0    5371725\n",
       "1      12437\n",
       "Name: label, dtype: int64"
      ]
     },
     "execution_count": 16,
     "metadata": {},
     "output_type": "execute_result"
    }
   ],
   "source": [
    "# Pruning the dataset makes us lose many anomalies -- following 0 users might be an indicator of a fake user?\n",
    "# Also reduces dataset size from ~5.4 million to just 75,814 users, which seems weird --> analyze this more?\n",
    "# Should we even prune users - up for discussion!\n",
    "df[\"label\"].value_counts()"
   ]
  },
  {
   "cell_type": "code",
   "execution_count": 17,
   "metadata": {},
   "outputs": [],
   "source": [
    "# Draw the directed graph programatically - Note: takes a REALLY long time\n",
    "# G = nx.Graph()\n",
    "\n",
    "# print(\"Creating list of edges...\")\n",
    "# edgesList = list(zip(network[\"src\"], network[\"dst\"]))\n",
    "# print(\"Done.\")\n",
    "\n",
    "# print(\"Drawing edges...\")\n",
    "# G.add_edges_from(edgesList) # draw all edges\n",
    "# print(\"Done.\")\n",
    "\n",
    "# print(\"Coloring nodes representing fake users...\")\n",
    "# color_map = [ \"red\" for node in G if node in fakeIds[\"id\"].values ] # color fake users\n",
    "# print(\"Done.\")\n",
    "\n",
    "# print(\"Drawing full graph...\")\n",
    "# nx.draw(G, node_color = color_map,with_labels = True)\n",
    "# print(\"Done.\")\n",
    "\n",
    "# plt.savefig(\"network.png\") # save as png\n",
    "# plt.show() "
   ]
  },
  {
   "cell_type": "code",
   "execution_count": null,
   "metadata": {},
   "outputs": [],
   "source": []
  }
 ],
 "metadata": {
  "kernelspec": {
   "display_name": "Python 3",
   "language": "python",
   "name": "python3"
  },
  "language_info": {
   "codemirror_mode": {
    "name": "ipython",
    "version": 3
   },
   "file_extension": ".py",
   "mimetype": "text/x-python",
   "name": "python",
   "nbconvert_exporter": "python",
   "pygments_lexer": "ipython3",
   "version": "3.7.4"
  }
 },
 "nbformat": 4,
 "nbformat_minor": 2
}
